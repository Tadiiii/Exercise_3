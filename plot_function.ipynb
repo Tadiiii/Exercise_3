{
 "cells": [
  {
   "cell_type": "markdown",
   "id": "c2c7e8e0-af2e-497d-a6f2-5712bdd5a612",
   "metadata": {},
   "source": [
    "### 2)"
   ]
  },
  {
   "cell_type": "code",
   "execution_count": 5,
   "id": "232bf2d8-e9b5-447e-8382-183e466b640f",
   "metadata": {},
   "outputs": [],
   "source": [
    "def plot(data):\n",
    "    weights_month = data['time'].dt.days_in_month #calculate the days in months\n",
    "    data_mean = data.weighted(weights_month).mean('time', keep_attrs=True) #calculate the mean over the months\n",
    "    \n",
    "    ax = plt.axes(projection=ccrs.PlateCarree()) #gives us the frame of the plot\n",
    "    data_mean.plot.pcolormesh(ax=ax, cmap='Blues', robust=True) #defines the color - in this case blue\n",
    "    ax.coastlines() #shows us the coastlines of the continents\n",
    "    ax.set_title('DATA: {} ({})'.format(\n",
    "        data_mean.attrs['long_name'], data_mean.attrs['units'])) #plots the data"
   ]
  },
  {
   "cell_type": "code",
   "execution_count": null,
   "id": "db95272f-8ee9-4171-86f2-9e71afa23d20",
   "metadata": {},
   "outputs": [],
   "source": []
  }
 ],
 "metadata": {
  "kernelspec": {
   "display_name": "MSC-Modelling-WS2022",
   "language": "python",
   "name": "modell2022"
  },
  "language_info": {
   "codemirror_mode": {
    "name": "ipython",
    "version": 3
   },
   "file_extension": ".py",
   "mimetype": "text/x-python",
   "name": "python",
   "nbconvert_exporter": "python",
   "pygments_lexer": "ipython3",
   "version": "3.10.6"
  }
 },
 "nbformat": 4,
 "nbformat_minor": 5
}
